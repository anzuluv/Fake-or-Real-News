{
 "cells": [
  {
   "cell_type": "code",
   "execution_count": 16,
   "metadata": {},
   "outputs": [
    {
     "name": "stdout",
     "output_type": "stream",
     "text": [
      "(6335, 4)\n",
      "Accuracy: 92.66%\n"
     ]
    },
    {
     "data": {
      "text/plain": [
       "array([[587,  51],\n",
       "       [ 42, 587]], dtype=int64)"
      ]
     },
     "execution_count": 16,
     "metadata": {},
     "output_type": "execute_result"
    }
   ],
   "source": [
    "import numpy as np\n",
    "import pandas as pd\n",
    "import itertools\n",
    "from sklearn.model_selection import train_test_split\n",
    "from sklearn.feature_extraction.text import TfidfVectorizer\n",
    "from sklearn.linear_model import PassiveAggressiveClassifier\n",
    "from sklearn.metrics import accuracy_score, confusion_matrix\n",
    "\n",
    "df=pd.read_csv('news.csv')\n",
    "print(df.shape)\n",
    "df.head()\n",
    "\n",
    "labels =df.label\n",
    "labels.head()\n",
    "\n",
    "x_train,x_test,y_train,y_test=train_test_split(df['text'],labels, test_size=0.2,random_state=7)\n",
    "\n",
    "tfidf_vectorizer=TfidfVectorizer(stop_words='english', max_df=0.7)\n",
    "tfidf_train=tfidf_vectorizer.fit_transform(x_train)\n",
    "tfidf_test=tfidf_vectorizer.transform(x_test)\n",
    "#number of times words appear, #times words appear in docs, label fake or real\n",
    "\n",
    "pac=PassiveAggressiveClassifier(max_iter=50)\n",
    "pac.fit(tfidf_train,y_train)\n",
    "y_pred=pac.predict(tfidf_test)\n",
    "score=accuracy_score(y_test,y_pred)\n",
    "print(f'Accuracy: {round(score*100,2)}%')\n",
    "\n",
    "confusion_matrix(y_test,y_pred,labels=['FAKE','REAL'])"
   ]
  },
  {
   "cell_type": "code",
   "execution_count": 19,
   "metadata": {},
   "outputs": [
    {
     "name": "stdout",
     "output_type": "stream",
     "text": [
      "['FAKE' 'FAKE' 'FAKE' 'FAKE' 'FAKE' 'FAKE' 'REAL' 'FAKE' 'FAKE' 'FAKE'\n",
      " 'FAKE' 'FAKE' 'FAKE' 'FAKE' 'FAKE' 'FAKE' 'FAKE' 'FAKE' 'FAKE' 'FAKE'\n",
      " 'FAKE' 'FAKE' 'FAKE' 'FAKE' 'FAKE' 'FAKE' 'FAKE' 'FAKE' 'FAKE' 'FAKE'\n",
      " 'FAKE' 'FAKE' 'FAKE' 'FAKE' 'FAKE' 'FAKE' 'FAKE' 'FAKE' 'FAKE' 'FAKE'\n",
      " 'FAKE' 'FAKE' 'FAKE' 'FAKE' 'FAKE' 'FAKE' 'FAKE' 'FAKE' 'FAKE' 'FAKE'\n",
      " 'FAKE' 'FAKE' 'FAKE' 'FAKE' 'FAKE' 'FAKE' 'FAKE' 'FAKE' 'FAKE' 'FAKE'\n",
      " 'FAKE' 'FAKE' 'FAKE' 'FAKE' 'FAKE' 'FAKE' 'FAKE' 'FAKE' 'FAKE' 'FAKE'\n",
      " 'FAKE' 'FAKE' 'FAKE' 'FAKE' 'FAKE' 'REAL' 'FAKE' 'FAKE' 'FAKE' 'FAKE'\n",
      " 'FAKE' 'FAKE' 'FAKE' 'FAKE' 'FAKE' 'FAKE' 'FAKE' 'FAKE' 'FAKE' 'FAKE'\n",
      " 'FAKE' 'FAKE' 'FAKE' 'FAKE' 'FAKE' 'FAKE' 'FAKE' 'FAKE' 'FAKE' 'FAKE'\n",
      " 'FAKE' 'FAKE' 'FAKE' 'FAKE' 'FAKE' 'FAKE' 'FAKE' 'FAKE' 'FAKE' 'FAKE'\n",
      " 'FAKE' 'FAKE' 'FAKE' 'FAKE' 'REAL' 'FAKE' 'FAKE' 'FAKE' 'FAKE' 'FAKE'\n",
      " 'FAKE' 'FAKE' 'FAKE' 'FAKE' 'FAKE' 'FAKE' 'FAKE' 'FAKE' 'FAKE' 'FAKE'\n",
      " 'FAKE' 'FAKE' 'FAKE' 'FAKE' 'FAKE' 'FAKE' 'FAKE' 'FAKE' 'FAKE' 'FAKE'\n",
      " 'FAKE' 'FAKE' 'FAKE' 'FAKE' 'FAKE' 'FAKE' 'FAKE' 'FAKE' 'FAKE' 'FAKE'\n",
      " 'FAKE' 'FAKE' 'FAKE' 'FAKE' 'FAKE' 'FAKE' 'FAKE' 'FAKE' 'FAKE' 'FAKE'\n",
      " 'FAKE' 'FAKE' 'FAKE' 'FAKE' 'FAKE' 'FAKE' 'FAKE' 'FAKE' 'FAKE' 'FAKE'\n",
      " 'FAKE' 'FAKE' 'FAKE' 'FAKE' 'FAKE' 'FAKE' 'FAKE' 'REAL' 'FAKE' 'FAKE'\n",
      " 'FAKE' 'FAKE' 'FAKE' 'FAKE' 'FAKE' 'FAKE' 'FAKE' 'FAKE' 'FAKE' 'FAKE'\n",
      " 'FAKE' 'FAKE' 'FAKE' 'FAKE' 'FAKE' 'FAKE' 'FAKE' 'FAKE' 'FAKE' 'FAKE'\n",
      " 'FAKE' 'FAKE' 'FAKE' 'FAKE' 'FAKE' 'FAKE' 'FAKE' 'FAKE' 'FAKE' 'FAKE'\n",
      " 'FAKE' 'FAKE' 'FAKE' 'FAKE' 'FAKE' 'FAKE' 'FAKE' 'FAKE' 'FAKE' 'FAKE'\n",
      " 'FAKE' 'FAKE' 'FAKE' 'FAKE' 'FAKE' 'FAKE' 'FAKE' 'FAKE' 'FAKE' 'REAL'\n",
      " 'FAKE' 'FAKE' 'FAKE' 'FAKE' 'FAKE' 'REAL' 'FAKE' 'FAKE' 'FAKE' 'FAKE'\n",
      " 'FAKE' 'FAKE' 'FAKE' 'REAL' 'FAKE' 'FAKE' 'FAKE' 'FAKE' 'FAKE' 'FAKE']\n"
     ]
    }
   ],
   "source": [
    "csv1=pd.read_csv('tweets.csv')\n",
    "testing1= csv1['text']\n",
    "truetesting1=tfidf_vectorizer.transform(testing1)\n",
    "predict=pac.predict(truetesting1)\n",
    "print(predict)\n"
   ]
  },
  {
   "cell_type": "code",
   "execution_count": 2,
   "metadata": {},
   "outputs": [
    {
     "name": "stdout",
     "output_type": "stream",
     "text": [
      "Collecting datafreeze\n",
      "  Downloading https://files.pythonhosted.org/packages/e0/41/9e86652a1293a0c4664e5aa34a8f5b1a2fe5a04f7cae287ae79385f65ec0/datafreeze-0.1.0-py2.py3-none-any.whl\n",
      "Requirement already satisfied: dataset>=1.0.0 in c:\\users\\bearo\\anaconda3\\lib\\site-packages (from datafreeze) (1.5.0)\n",
      "Requirement already satisfied: PyYAML>=3.10 in c:\\users\\bearo\\anaconda3\\lib\\site-packages (from datafreeze) (5.1.2)\n",
      "Requirement already satisfied: six>=1.7.3 in c:\\users\\bearo\\anaconda3\\lib\\site-packages (from datafreeze) (1.12.0)\n",
      "Requirement already satisfied: sqlalchemy>=1.3.2 in c:\\users\\bearo\\anaconda3\\lib\\site-packages (from dataset>=1.0.0->datafreeze) (1.3.9)\n",
      "Requirement already satisfied: alembic>=0.6.2 in c:\\users\\bearo\\anaconda3\\lib\\site-packages (from dataset>=1.0.0->datafreeze) (1.6.5)\n",
      "Requirement already satisfied: banal>=1.0.1 in c:\\users\\bearo\\anaconda3\\lib\\site-packages (from dataset>=1.0.0->datafreeze) (1.0.6)\n",
      "Requirement already satisfied: python-dateutil in c:\\users\\bearo\\anaconda3\\lib\\site-packages (from alembic>=0.6.2->dataset>=1.0.0->datafreeze) (2.8.0)\n",
      "Requirement already satisfied: Mako in c:\\users\\bearo\\anaconda3\\lib\\site-packages (from alembic>=0.6.2->dataset>=1.0.0->datafreeze) (1.1.4)\n",
      "Requirement already satisfied: python-editor>=0.3 in c:\\users\\bearo\\anaconda3\\lib\\site-packages (from alembic>=0.6.2->dataset>=1.0.0->datafreeze) (1.0.4)\n",
      "Requirement already satisfied: MarkupSafe>=0.9.2 in c:\\users\\bearo\\anaconda3\\lib\\site-packages (from Mako->alembic>=0.6.2->dataset>=1.0.0->datafreeze) (1.1.1)\n",
      "Installing collected packages: datafreeze\n",
      "Successfully installed datafreeze-0.1.0\n",
      "Note: you may need to restart the kernel to use updated packages.\n"
     ]
    }
   ],
   "source": [
    "pip install datafreeze"
   ]
  },
  {
   "cell_type": "code",
   "execution_count": 3,
   "metadata": {},
   "outputs": [
    {
     "name": "stdout",
     "output_type": "stream",
     "text": [
      "Collecting normality\n",
      "  Downloading https://files.pythonhosted.org/packages/07/c8/93252610e6de5d45d484d08b0af0c28b21cbe338d19b6e34f695d432e359/normality-2.2.2-py2.py3-none-any.whl\n",
      "Requirement already satisfied: banal>=1.0.1 in c:\\users\\bearo\\anaconda3\\lib\\site-packages (from normality) (1.0.6)\n",
      "Requirement already satisfied: chardet in c:\\users\\bearo\\anaconda3\\lib\\site-packages (from normality) (3.0.4)\n",
      "Collecting text-unidecode (from normality)\n",
      "  Downloading https://files.pythonhosted.org/packages/a6/a5/c0b6468d3824fe3fde30dbb5e1f687b291608f9473681bbf7dabbf5a87d7/text_unidecode-1.3-py2.py3-none-any.whl (78kB)\n",
      "Installing collected packages: text-unidecode, normality\n",
      "Successfully installed normality-2.2.2 text-unidecode-1.3\n",
      "Note: you may need to restart the kernel to use updated packages.\n"
     ]
    }
   ],
   "source": [
    "pip install normality"
   ]
  },
  {
   "cell_type": "code",
   "execution_count": null,
   "metadata": {},
   "outputs": [],
   "source": []
  }
 ],
 "metadata": {
  "kernelspec": {
   "display_name": "Python 3",
   "language": "python",
   "name": "python3"
  },
  "language_info": {
   "codemirror_mode": {
    "name": "ipython",
    "version": 3
   },
   "file_extension": ".py",
   "mimetype": "text/x-python",
   "name": "python",
   "nbconvert_exporter": "python",
   "pygments_lexer": "ipython3",
   "version": "3.7.4"
  }
 },
 "nbformat": 4,
 "nbformat_minor": 2
}
